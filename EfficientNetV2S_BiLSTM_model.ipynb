{
  "nbformat": 4,
  "nbformat_minor": 0,
  "metadata": {
    "colab": {
      "provenance": [],
      "machine_shape": "hm",
      "gpuType": "V100"
    },
    "kernelspec": {
      "name": "python3",
      "display_name": "Python 3"
    },
    "language_info": {
      "name": "python"
    },
    "accelerator": "GPU"
  },
  "cells": [
    {
      "cell_type": "code",
      "source": [
        "from tensorflow.keras.models import Model\n",
        "from tensorflow.keras.layers import Input, TimeDistributed, Dense, LSTM, Dropout, Bidirectional, GlobalAveragePooling2D, ConvLSTM2D\n",
        "from tensorflow.keras.applications import VGG16\n",
        "from tensorflow.keras.regularizers import l2\n",
        "from tensorflow.keras.optimizers import Adam\n",
        "\n",
        "def create_model(sequence_length, frame_shape, num_classes):\n",
        "  #all weights frozen\n",
        "    video_input = Input(shape=(sequence_length,) + frame_shape)\n",
        "    base_model = EfficientNetV2S(include_top=False, input_shape=frame_shape, weights='imagenet')\n",
        "    for layer in base_model.layers:\n",
        "        layer.trainable = False\n",
        "    encoded_frames = TimeDistributed(base_model)(video_input)\n",
        "    convlstm_layer = ConvLSTM2D(filters=64, kernel_size=(3, 3), padding='same', return_sequences=True, data_format='channels_last')(encoded_frames)\n",
        "    convlstm_layer = TimeDistributed(GlobalAveragePooling2D())(convlstm_layer)\n",
        "    sequence_encoded = Bidirectional(LSTM(256, return_sequences=True, kernel_regularizer=l2(0.001)))(convlstm_layer)\n",
        "    sequence_encoded = Dropout(0.5)(sequence_encoded)\n",
        "    frame_predictions = TimeDistributed(Dense(num_classes, activation='softmax', kernel_regularizer=l2(0.001)))(sequence_encoded)\n",
        "\n",
        "    model = Model(inputs=video_input, outputs=frame_predictions)\n",
        "    return model\n",
        "\n",
        "sequence_length = 16\n",
        "frame_shape = (224, 224, 3)\n",
        "num_classes = 5\n",
        "\n",
        "model = create_model(sequence_length, frame_shape, num_classes)\n",
        "model.compile(optimizer=Adam(learning_rate=0.00006), loss='categorical_crossentropy', metrics=['accuracy'])\n",
        "\n",
        "model.summary()"
      ],
      "metadata": {
        "id": "lYgVH7tP8Nsz"
      },
      "execution_count": null,
      "outputs": []
    },
    {
      "cell_type": "code",
      "source": [
        "history = model.fit(\n",
        "    train_generator,\n",
        "    epochs= 200,\n",
        "    validation_data=test_generator\n",
        ")\n",
        "\n",
        "#then save the model, run predicitons, error analysis etc."
      ],
      "metadata": {
        "id": "laPYjGwM8RPU"
      },
      "execution_count": null,
      "outputs": []
    }
  ]
}