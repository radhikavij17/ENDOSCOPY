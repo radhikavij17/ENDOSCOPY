{
  "cells": [
    {
      "cell_type": "code",
      "execution_count": null,
      "metadata": {
        "id": "bDCz4SXfBrq1"
      },
      "outputs": [],
      "source": [
        "\n",
        "from google.colab import drive\n",
        "drive.mount('/content/drive')\n",
        "\n"
      ]
    },
    {
      "cell_type": "code",
      "source": [
        "import cv2\n",
        "import tensorflow as tf\n",
        "import numpy as np\n",
        "import random\n",
        "import pandas as pd\n",
        "import pickle\n",
        "from pathlib import Path\n",
        "import os\n",
        "import csv\n",
        "import xml.etree.ElementTree as ET"
      ],
      "metadata": {
        "id": "kM1MJUrnAr0e"
      },
      "execution_count": null,
      "outputs": []
    },
    {
      "cell_type": "code",
      "source": [
        "#extracting all the labels from the xml file in order to create a csv file with all the labels. This allows for easier handling of the lables.\n",
        "\n",
        "def extract_labels_from_xml(xml_folder_path, attributes):\n",
        "    all_labels = []\n",
        "\n",
        "\n",
        "    for xml_file in os.listdir(xml_folder_path):\n",
        "        if xml_file.endswith('.xml'):\n",
        "            xml_path = os.path.join(xml_folder_path, xml_file)\n",
        "            video_name = xml_file[:-4]\n",
        "            tree = ET.parse(xml_path)\n",
        "            root = tree.getroot()\n",
        "\n",
        "\n",
        "            for image_attr in root.findall('.//image_attribute'):\n",
        "                frame_num = image_attr.get('frame')\n",
        "                attributes_found = [attribute.get('name') for attribute in image_attr.findall('.//attribute')]\n",
        "\n",
        "\n",
        "                matched_attributes = set(attributes_found) & set(attributes)\n",
        "                if matched_attributes:\n",
        "\n",
        "                    all_labels.append({'video_name': video_name, 'frame': frame_num, 'label': list(matched_attributes)[0]})\n",
        "                else:\n",
        "\n",
        "                    all_labels.append({'video_name': video_name, 'frame': frame_num, 'label': 'Other'})\n",
        "\n",
        "    return all_labels\n",
        "\n",
        "def convert_to_csv(all_labels, output_csv_path):\n",
        "    with open(output_csv_path, 'w', newline='') as csvfile:\n",
        "        fieldnames = ['video_name', 'frame', 'label']\n",
        "        writer = csv.DictWriter(csvfile, fieldnames=fieldnames)\n",
        "\n",
        "        writer.writeheader()\n",
        "        for label in all_labels:\n",
        "            writer.writerow(label)\n",
        "\n",
        "#this is the path to the folders containing the csv, xml and videos in my google drive so replace with your file paths\n",
        "def main():\n",
        "    xml_folder_path = '/content/drive/My Drive/XMLs_Polypectomy'\n",
        "    output_csv_path = '/content/drive/My Drive/labels.csv'\n",
        "    attributes = [\"Injection\", \"Optimising_Position\", \"Polypectomy\", \"Inspecting_Resection\"]\n",
        "\n",
        "    all_labels = extract_labels_from_xml(xml_folder_path, attributes)\n",
        "    convert_to_csv(all_labels, output_csv_path)\n",
        "\n",
        "    print(f\"CSV file has been created at: {output_csv_path}\")\n",
        "\n",
        "if __name__ == \"__main__\":\n",
        "    main()"
      ],
      "metadata": {
        "id": "xrjxo6ec7J5p"
      },
      "execution_count": null,
      "outputs": []
    },
    {
      "cell_type": "code",
      "source": [
        "#here the frames from the videos are extracted, sampled at 5 frames per second, and matched to their respective label from the csv. They are being preprocessed in batches of 16 and then saved to pickle files\n",
        "\n",
        "def load_labels_from_csv(csv_file_path):\n",
        "    labels = {}\n",
        "    with open(csv_file_path, mode='r') as csvfile:\n",
        "        reader = csv.DictReader(csvfile)\n",
        "        for row in reader:\n",
        "            video_name = row['video_name']\n",
        "            frame = int(row['frame'])\n",
        "            label = row['label']\n",
        "            if video_name not in labels:\n",
        "                labels[video_name] = {}\n",
        "            labels[video_name][frame] = label\n",
        "    return labels\n",
        "\n",
        "def preprocess_video_frames_in_batches(video_folder_path, labels_csv_path, output_folder_path, output_size=(224, 224), frame_step=5, batch_size=16):\n",
        "    labels = load_labels_from_csv(labels_csv_path)\n",
        "\n",
        "    for video_file in os.listdir(video_folder_path):\n",
        "        if video_file.endswith('.mov'):\n",
        "            video_path = os.path.join(video_folder_path, video_file)\n",
        "            video_name = Path(video_file).stem\n",
        "            src = cv2.VideoCapture(video_path)\n",
        "            frames = []\n",
        "            batch_count = 0\n",
        "            actual_frame_number = 0\n",
        "\n",
        "            while True:\n",
        "                ret, frame = src.read()\n",
        "                if not ret:\n",
        "                    break\n",
        "                actual_frame_number += 1\n",
        "\n",
        "\n",
        "                if actual_frame_number % frame_step == 0:\n",
        "\n",
        "                    if actual_frame_number in labels.get(video_name, {}):\n",
        "                        frame = cv2.cvtColor(frame, cv2.COLOR_BGR2RGB)\n",
        "                        frame_resized = cv2.resize(frame, output_size)\n",
        "                        label = labels[video_name][actual_frame_number]\n",
        "                        frames.append((frame_resized, label))\n",
        "\n",
        "                        if len(frames) == batch_size:\n",
        "                            batch_file_path = os.path.join(output_folder_path, f\"{video_name}_batch_{batch_count}.pkl\")\n",
        "                            with open(batch_file_path, 'wb') as file:\n",
        "                                pickle.dump(frames, file)\n",
        "                            frames = []\n",
        "                            batch_count += 1\n",
        "\n",
        "\n",
        "            if frames:\n",
        "                batch_file_path = os.path.join(output_folder_path, f\"{video_name}_batch_{batch_count}.pkl\")\n",
        "                with open(batch_file_path, 'wb') as file:\n",
        "                    pickle.dump(frames, file)\n",
        "\n",
        "            src.release()\n",
        "\n",
        "    print(f\"Preprocessed frames saved to {output_folder_path}\")\n"
      ],
      "metadata": {
        "id": "-hE21Tp1X4V7"
      },
      "execution_count": null,
      "outputs": []
    },
    {
      "cell_type": "code",
      "source": [
        "#again these are the names of my paths so replace with your path names\n",
        "video_folder_path = '/content/drive/My Drive/polyp video dataset'\n",
        "labels_csv_path = '/content/drive/My Drive/labels.csv'\n",
        "output_folder_path = '/content/drive/My Drive/batches matches full'\n",
        "\n",
        "\n",
        "if not os.path.exists(output_folder_path):\n",
        "    os.makedirs(output_folder_path)\n",
        "\n",
        "preprocess_video_frames_in_batches(video_folder_path=video_folder_path, labels_csv_path=labels_csv_path, output_folder_path=output_folder_path, output_size=(224, 224), frame_step=5, batch_size=16)"
      ],
      "metadata": {
        "id": "nJm6D8U-X6A3"
      },
      "execution_count": null,
      "outputs": []
    },
    {
      "cell_type": "code",
      "source": [],
      "metadata": {
        "id": "qURK_HO6r8DX"
      },
      "execution_count": null,
      "outputs": []
    }
  ],
  "metadata": {
    "accelerator": "GPU",
    "colab": {
      "machine_shape": "hm",
      "provenance": [],
      "gpuType": "V100"
    },
    "kernelspec": {
      "display_name": "Python 3",
      "name": "python3"
    },
    "language_info": {
      "name": "python"
    }
  },
  "nbformat": 4,
  "nbformat_minor": 0
}